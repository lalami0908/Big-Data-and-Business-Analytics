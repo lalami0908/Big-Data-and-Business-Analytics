{
 "cells": [
  {
   "cell_type": "code",
   "execution_count": 1,
   "metadata": {},
   "outputs": [
    {
     "name": "stdout",
     "output_type": "stream",
     "text": [
      "Index(['id', 'p_type', 's_name', 's_area_name', 'post_time', 'title', 'author',\n",
      "       'content', 'page_url'],\n",
      "      dtype='object')\n"
     ]
    }
   ],
   "source": [
    "import jieba\n",
    "import jieba.analyse\n",
    "import re\n",
    "import pandas as pd\n",
    "import urllib.parse as ur\n",
    "import os \n",
    "import numpy as np\n",
    "from sklearn.model_selection import train_test_split\n",
    "#os.getcwd()\n",
    "df = pd.DataFrame(pd.read_csv('/Users/kuoloading/Downloads/news.csv'))\n",
    "data = pd.DataFrame(pd.read_csv('/Users/kuoloading/Downloads/TextandLabel.csv'))\n",
    "print(df.columns)"
   ]
  },
  {
   "cell_type": "code",
   "execution_count": 2,
   "metadata": {},
   "outputs": [
    {
     "name": "stdout",
     "output_type": "stream",
     "text": [
      "901\n",
      "901\n"
     ]
    }
   ],
   "source": [
    "train_texts = []\n",
    "for i in range(len(data[\"Text\"])):\n",
    "    train_texts += [data[\"Text\"][i]]\n",
    "train_labels = []\n",
    "for i in range(len(data[\"Label\"])):\n",
    "    train_labels += [data['Label'][i]]\n",
    "print(len(train_texts))\n",
    "print(len(train_labels))"
   ]
  },
  {
   "cell_type": "code",
   "execution_count": 3,
   "metadata": {},
   "outputs": [
    {
     "name": "stdout",
     "output_type": "stream",
     "text": [
      "720\n",
      "181\n",
      "720\n",
      "181\n"
     ]
    }
   ],
   "source": [
    "##Split Data\n",
    "X =  np.array(train_texts)\n",
    "y =  np.array(train_labels)\n",
    "train_texts, test_texts, train_labels, test_labels = train_test_split(X, y, test_size=0.2, random_state=101)\n",
    "print(len(train_texts))\n",
    "print(len(test_texts))\n",
    "print(len(train_labels))\n",
    "print(len(test_labels))"
   ]
  },
  {
   "cell_type": "code",
   "execution_count": 5,
   "metadata": {},
   "outputs": [
    {
     "name": "stdout",
     "output_type": "stream",
     "text": [
      " (1)doc to var in process...\n",
      "the shape of train is (720, 35397)\n",
      "the shape of test is (181, 35397)\n",
      "(2) SVM...\n",
      "precision_score:0.856353591160221\n",
      "[[ 43  23]\n",
      " [  3 112]]\n"
     ]
    }
   ],
   "source": [
    "import sys\n",
    "import importlib\n",
    "importlib.reload(sys)\n",
    "from sklearn.feature_extraction.text import CountVectorizer, TfidfTransformer   \n",
    "from sklearn.svm import SVC   \n",
    "from sklearn.metrics import confusion_matrix\n",
    "#reload(sys)\n",
    "#sys.setdefaultencoding('utf8')\n",
    "VECTOR_DIR = 'vectors.bin'\n",
    "\n",
    "#all_text = train_texts + test_texts\n",
    "\n",
    "all_text = train_texts \n",
    "print (' (1)doc to var in process...')\n",
    "\n",
    "count_v0= CountVectorizer();  \n",
    "counts_all = count_v0.fit_transform(all_text);\n",
    "count_v1= CountVectorizer(vocabulary=count_v0.vocabulary_);  \n",
    "counts_train = count_v1.fit_transform(train_texts);   \n",
    "print (\"the shape of train is \"+repr(counts_train.shape)  )\n",
    "count_v2 = CountVectorizer(vocabulary=count_v0.vocabulary_);  \n",
    "counts_test = count_v2.fit_transform(test_texts);  \n",
    "print (\"the shape of test is \"+repr(counts_test.shape)  )\n",
    "  \n",
    "tfidftransformer = TfidfTransformer();    \n",
    "train_data = tfidftransformer.fit(counts_train).transform(counts_train);\n",
    "test_data = tfidftransformer.fit(counts_test).transform(counts_test); \n",
    "\n",
    "x_train = train_data\n",
    "y_train = train_labels\n",
    "x_test = test_data\n",
    "y_test = test_labels\n",
    "\n",
    "print( '(2) SVM...')\n",
    "#svclf = SVC(kernel = 'linear', C=0.0001, max_iter=-1) \n",
    "svclf = SVC(kernel = 'linear', C=1) \n",
    "svclf.fit(x_train,y_train)  \n",
    "preds = svclf.predict(x_test);  \n",
    "num = 0\n",
    "preds = preds.tolist()\n",
    "for i,pred in enumerate(preds):\n",
    "    #print(pred)\n",
    "    if int(pred) == int(y_test[i]):\n",
    "        num += 1\n",
    "print ('precision_score:' + str(float(num) / len(preds)))\n",
    "\n",
    "matrix = confusion_matrix(y_test, preds)\n",
    "print(matrix)\n",
    "np.save('confusion_matrix.npy', matrix)\n",
    "#matrix = confusion_matrix(x_test, preds)\n",
    "#print(matrix)"
   ]
  },
  {
   "cell_type": "code",
   "execution_count": 7,
   "metadata": {
    "scrolled": true
   },
   "outputs": [
    {
     "name": "stdout",
     "output_type": "stream",
     "text": [
      "Confusion matrix, without normalization\n",
      "[[ 43  23]\n",
      " [  3 112]]\n",
      "Normalized confusion matrix\n",
      "[[0.65151515 0.34848485]\n",
      " [0.02608696 0.97391304]]\n"
     ]
    },
    {
     "data": {
      "image/png": "[encoded data removed]",
      "text/plain": [
       "<Figure size 432x288 with 2 Axes>"
      ]
     },
     "metadata": {
      "needs_background": "light"
     },
     "output_type": "display_data"
    },
    {
     "data": {
      "image/png": "[encoded data removed]",
      "text/plain": [
       "<Figure size 432x288 with 2 Axes>"
      ]
     },
     "metadata": {
      "needs_background": "light"
     },
     "output_type": "display_data"
    }
   ],
   "source": [
    "import matplotlib.pyplot as plt\n",
    "from sklearn.metrics import plot_confusion_matrix\n",
    "#classifier = †(kernel='linear', C=0.01).fit(x_train, y_train)\n",
    "classifier = SVC(kernel='linear').fit(x_train, y_train)\n",
    "#np.set_printoptions(precision=2)\n",
    "\n",
    "# Plot non-normalized confusion matrix\n",
    "titles_options = [(\"Confusion matrix, without normalization\", None),\n",
    "                  (\"Normalized confusion matrix\", 'true')]\n",
    "for title, normalize in titles_options:\n",
    "    disp = plot_confusion_matrix(classifier, x_test, y_test,\n",
    "                                 display_labels=[\"0\",\"1\"],\n",
    "                                 cmap=plt.cm.Blues,\n",
    "                                 normalize=normalize)\n",
    "    disp.ax_.set_title(title)\n",
    "\n",
    "    print(title)\n",
    "    print(disp.confusion_matrix)\n",
    "\n",
    "plt.show()"
   ]
  },
  {
   "cell_type": "code",
   "execution_count": null,
   "metadata": {},
   "outputs": [],
   "source": []
  }
 ],
 "metadata": {
  "kernelspec": {
   "display_name": "Python 3",
   "language": "python",
   "name": "python3"
  },
  "language_info": {
   "codemirror_mode": {
    "name": "ipython",
    "version": 3
   },
   "file_extension": ".py",
   "mimetype": "text/x-python",
   "name": "python",
   "nbconvert_exporter": "python",
   "pygments_lexer": "ipython3",
   "version": "3.7.2"
  }
 },
 "nbformat": 4,
 "nbformat_minor": 2
}
